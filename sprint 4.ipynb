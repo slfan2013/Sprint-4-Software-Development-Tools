{
 "cells": [
  {
   "cell_type": "markdown",
   "id": "d176009b-81d5-421a-ac06-11fc1d7a7833",
   "metadata": {},
   "source": [
    "# Software Development Tools - Car Sales Advertisement\n",
    "\n",
    "Sili Fan"
   ]
  }
 ],
 "metadata": {
  "kernelspec": {
   "display_name": "Python 3 (ipykernel)",
   "language": "python",
   "name": "python3"
  },
  "language_info": {
   "codemirror_mode": {
    "name": "ipython",
    "version": 3
   },
   "file_extension": ".py",
   "mimetype": "text/x-python",
   "name": "python",
   "nbconvert_exporter": "python",
   "pygments_lexer": "ipython3",
   "version": "3.11.7"
  }
 },
 "nbformat": 4,
 "nbformat_minor": 5
}
